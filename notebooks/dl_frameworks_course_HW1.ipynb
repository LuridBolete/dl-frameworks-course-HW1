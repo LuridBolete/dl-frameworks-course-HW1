{
 "cells": [
  {
   "cell_type": "markdown",
   "metadata": {
    "id": "mBwW5XIWtsCp"
   },
   "source": [
    "## Download"
   ]
  },
  {
   "cell_type": "code",
   "execution_count": 1,
   "metadata": {
    "colab": {
     "base_uri": "https://localhost:8080/"
    },
    "id": "toMj6y8BthAu",
    "outputId": "38577327-9dd3-4418-a641-d5549158b290"
   },
   "outputs": [
    {
     "name": "stdout",
     "output_type": "stream",
     "text": [
      "Downloading...\n",
      "From: https://drive.google.com/uc?id=1QKJ4qqfc_EcO8nDghtp0L1dSNGqlw6R8\n",
      "To: /content/Ethos_Dataset_Binary.csv\n",
      "\r",
      "  0% 0.00/124k [00:00<?, ?B/s]\r",
      "100% 124k/124k [00:00<00:00, 82.0MB/s]\n"
     ]
    }
   ],
   "source": [
    "# /content/Ethos_Dataset_Binary.csv\n",
    "!gdown 1QKJ4qqfc_EcO8nDghtp0L1dSNGqlw6R8 "
   ]
  },
  {
   "cell_type": "code",
   "execution_count": 45,
   "metadata": {
    "colab": {
     "base_uri": "https://localhost:8080/"
    },
    "id": "Ry3nlct6-tNC",
    "outputId": "b0730e18-7439-45a0-d16a-32e2a35021e6"
   },
   "outputs": [
    {
     "name": "stdout",
     "output_type": "stream",
     "text": [
      "Looking in indexes: https://pypi.org/simple, https://us-python.pkg.dev/colab-wheels/public/simple/\n",
      "Collecting optuna\n",
      "  Downloading optuna-3.2.0-py3-none-any.whl (390 kB)\n",
      "\u001b[2K     \u001b[90m━━━━━━━━━━━━━━━━━━━━━━━━━━━━━━━━━━━━━━━\u001b[0m \u001b[32m390.6/390.6 kB\u001b[0m \u001b[31m7.6 MB/s\u001b[0m eta \u001b[36m0:00:00\u001b[0m\n",
      "\u001b[?25hCollecting alembic>=1.5.0 (from optuna)\n",
      "  Downloading alembic-1.11.1-py3-none-any.whl (224 kB)\n",
      "\u001b[2K     \u001b[90m━━━━━━━━━━━━━━━━━━━━━━━━━━━━━━━━━━━━━━\u001b[0m \u001b[32m224.5/224.5 kB\u001b[0m \u001b[31m19.5 MB/s\u001b[0m eta \u001b[36m0:00:00\u001b[0m\n",
      "\u001b[?25hCollecting cmaes>=0.9.1 (from optuna)\n",
      "  Downloading cmaes-0.9.1-py3-none-any.whl (21 kB)\n",
      "Collecting colorlog (from optuna)\n",
      "  Downloading colorlog-6.7.0-py2.py3-none-any.whl (11 kB)\n",
      "Requirement already satisfied: numpy in /usr/local/lib/python3.10/dist-packages (from optuna) (1.22.4)\n",
      "Requirement already satisfied: packaging>=20.0 in /usr/local/lib/python3.10/dist-packages (from optuna) (23.1)\n",
      "Requirement already satisfied: sqlalchemy>=1.3.0 in /usr/local/lib/python3.10/dist-packages (from optuna) (2.0.10)\n",
      "Requirement already satisfied: tqdm in /usr/local/lib/python3.10/dist-packages (from optuna) (4.65.0)\n",
      "Requirement already satisfied: PyYAML in /usr/local/lib/python3.10/dist-packages (from optuna) (6.0)\n",
      "Collecting Mako (from alembic>=1.5.0->optuna)\n",
      "  Downloading Mako-1.2.4-py3-none-any.whl (78 kB)\n",
      "\u001b[2K     \u001b[90m━━━━━━━━━━━━━━━━━━━━━━━━━━━━━━━━━━━━━━━━\u001b[0m \u001b[32m78.7/78.7 kB\u001b[0m \u001b[31m7.7 MB/s\u001b[0m eta \u001b[36m0:00:00\u001b[0m\n",
      "\u001b[?25hRequirement already satisfied: typing-extensions>=4 in /usr/local/lib/python3.10/dist-packages (from alembic>=1.5.0->optuna) (4.5.0)\n",
      "Requirement already satisfied: greenlet!=0.4.17 in /usr/local/lib/python3.10/dist-packages (from sqlalchemy>=1.3.0->optuna) (2.0.2)\n",
      "Requirement already satisfied: MarkupSafe>=0.9.2 in /usr/local/lib/python3.10/dist-packages (from Mako->alembic>=1.5.0->optuna) (2.1.2)\n",
      "Installing collected packages: Mako, colorlog, cmaes, alembic, optuna\n",
      "Successfully installed Mako-1.2.4 alembic-1.11.1 cmaes-0.9.1 colorlog-6.7.0 optuna-3.2.0\n"
     ]
    }
   ],
   "source": [
    "!pip install optuna"
   ]
  },
  {
   "cell_type": "markdown",
   "metadata": {
    "id": "bBKzmiBIzcmD"
   },
   "source": [
    "## Imports"
   ]
  },
  {
   "cell_type": "code",
   "execution_count": 26,
   "metadata": {
    "id": "yq_iXdO5tqqb"
   },
   "outputs": [],
   "source": [
    "import polars as pl\n",
    "import numpy as np\n",
    "import catboost\n",
    "import json\n",
    "import pickle\n",
    "\n",
    "from sklearn.model_selection import train_test_split\n",
    "from sklearn.feature_extraction.text import TfidfVectorizer\n",
    "from sklearn.metrics import mean_squared_error"
   ]
  },
  {
   "cell_type": "markdown",
   "metadata": {
    "id": "KsOMlFFY2K3c"
   },
   "source": [
    "## Reading data"
   ]
  },
  {
   "cell_type": "code",
   "execution_count": 3,
   "metadata": {
    "id": "iD51sx-LtqtF"
   },
   "outputs": [],
   "source": [
    "df = pl.read_csv(\"/content/Ethos_Dataset_Binary.csv\", separator=';')"
   ]
  },
  {
   "cell_type": "code",
   "execution_count": 4,
   "metadata": {
    "colab": {
     "base_uri": "https://localhost:8080/",
     "height": 255
    },
    "id": "iCFLwk3vulVE",
    "outputId": "e87e64bf-bafe-4ddc-ab66-24b0a4bf2825"
   },
   "outputs": [
    {
     "data": {
      "text/html": [
       "<div><style>\n",
       ".dataframe > thead > tr > th,\n",
       ".dataframe > tbody > tr > td {\n",
       "  text-align: right;\n",
       "}\n",
       "</style>\n",
       "<small>shape: (5, 2)</small><table border=\"1\" class=\"dataframe\"><thead><tr><th>comment</th><th>isHate</th></tr><tr><td>str</td><td>f64</td></tr></thead><tbody><tr><td>&quot;You should kno…</td><td>1.0</td></tr><tr><td>&quot;You look like …</td><td>1.0</td></tr><tr><td>&quot;You look like …</td><td>1.0</td></tr><tr><td>&quot;Women deserve …</td><td>1.0</td></tr><tr><td>&quot;Women are made…</td><td>1.0</td></tr></tbody></table></div>"
      ],
      "text/plain": [
       "shape: (5, 2)\n",
       "┌───────────────────────────────────┬────────┐\n",
       "│ comment                           ┆ isHate │\n",
       "│ ---                               ┆ ---    │\n",
       "│ str                               ┆ f64    │\n",
       "╞═══════════════════════════════════╪════════╡\n",
       "│ You should know women's sports a… ┆ 1.0    │\n",
       "│ You look like Sloth with deeper … ┆ 1.0    │\n",
       "│ You look like Russian and speak … ┆ 1.0    │\n",
       "│ Women deserve to be abused, I gu… ┆ 1.0    │\n",
       "│ Women are made for making babies… ┆ 1.0    │\n",
       "└───────────────────────────────────┴────────┘"
      ]
     },
     "execution_count": 4,
     "metadata": {},
     "output_type": "execute_result"
    }
   ],
   "source": [
    "df[0:5]"
   ]
  },
  {
   "cell_type": "markdown",
   "metadata": {
    "id": "o6tRyb-k4Lrp"
   },
   "source": [
    "## Splitting a dataset into train and test"
   ]
  },
  {
   "cell_type": "code",
   "execution_count": 6,
   "metadata": {
    "id": "kMhBm9xzwbv4"
   },
   "outputs": [],
   "source": [
    "X = df['comment']\n",
    "y = df['isHate']"
   ]
  },
  {
   "cell_type": "code",
   "execution_count": 7,
   "metadata": {
    "id": "RqVGHB2gwb6w"
   },
   "outputs": [],
   "source": [
    "X_train, X_test, y_train, y_test = train_test_split(X, y, train_size=0.7, random_state=42)"
   ]
  },
  {
   "cell_type": "code",
   "execution_count": 8,
   "metadata": {
    "id": "xhGll09T4mxf"
   },
   "outputs": [],
   "source": [
    "# for logging in DVC\n",
    "train = pl.DataFrame([X_train, y_train])\n",
    "test = pl.DataFrame([X_test, y_test])\n",
    "\n",
    "train.write_csv('train.csv')\n",
    "test.write_csv('test.csv')"
   ]
  },
  {
   "cell_type": "markdown",
   "metadata": {
    "id": "MbE_bFmw408r"
   },
   "source": [
    "## Feature extraction"
   ]
  },
  {
   "cell_type": "code",
   "execution_count": 12,
   "metadata": {
    "id": "hMbUXtDAqrVr"
   },
   "outputs": [],
   "source": [
    "# Init tf-idf\n",
    "vect_word = TfidfVectorizer(\n",
    "    max_features=200,\n",
    "    lowercase=True,\n",
    "    analyzer=\"word\",\n",
    "    stop_words=\"english\",\n",
    "    ngram_range=(1, 5),\n",
    "    dtype=np.float32\n",
    ")"
   ]
  },
  {
   "cell_type": "code",
   "execution_count": 13,
   "metadata": {
    "id": "T9twU4O8qrZE"
   },
   "outputs": [],
   "source": [
    "# Train tf-idf\n",
    "X_train_tfidf = vect_word.fit_transform(X_train)\n",
    "# Map tf-idf on test\n",
    "X_test_tfidf = vect_word.transform(X_test)"
   ]
  },
  {
   "cell_type": "markdown",
   "metadata": {
    "id": "KvNnkgj75YDM"
   },
   "source": [
    "## Baseline model training"
   ]
  },
  {
   "cell_type": "code",
   "execution_count": 28,
   "metadata": {
    "id": "WLq6fq_JLhcL"
   },
   "outputs": [],
   "source": [
    "cat_regr = catboost.CatBoostRegressor()"
   ]
  },
  {
   "cell_type": "code",
   "execution_count": 29,
   "metadata": {
    "id": "nQC-KjsirqeE"
   },
   "outputs": [],
   "source": [
    "train_dataset = catboost.Pool(\n",
    "    X_train_tfidf,\n",
    "    y_train.to_pandas()\n",
    ")"
   ]
  },
  {
   "cell_type": "code",
   "execution_count": 30,
   "metadata": {
    "id": "nYaH5LubM6T3"
   },
   "outputs": [],
   "source": [
    "test_dataset = catboost.Pool(\n",
    "    X_test_tfidf,\n",
    "    y_test.to_pandas()\n",
    ")"
   ]
  },
  {
   "cell_type": "code",
   "execution_count": 31,
   "metadata": {
    "colab": {
     "base_uri": "https://localhost:8080/"
    },
    "id": "sbtytc4OLhes",
    "outputId": "f7c9aaa5-7642-453a-a214-e14786400f00"
   },
   "outputs": [
    {
     "name": "stdout",
     "output_type": "stream",
     "text": [
      "Learning rate set to 0.048126\n",
      "0:\tlearn: 0.3931903\ttest: 0.3854506\tbest: 0.3854506 (0)\ttotal: 11.4ms\tremaining: 11.4s\n",
      "100:\tlearn: 0.3509274\ttest: 0.3615031\tbest: 0.3615031 (100)\ttotal: 1.06s\tremaining: 9.47s\n",
      "200:\tlearn: 0.3225932\ttest: 0.3521206\tbest: 0.3521206 (200)\ttotal: 2.03s\tremaining: 8.09s\n",
      "300:\tlearn: 0.2993534\ttest: 0.3493200\tbest: 0.3489511 (279)\ttotal: 2.69s\tremaining: 6.25s\n",
      "400:\tlearn: 0.2816374\ttest: 0.3487998\tbest: 0.3487998 (400)\ttotal: 3.05s\tremaining: 4.56s\n",
      "500:\tlearn: 0.2672152\ttest: 0.3496114\tbest: 0.3487998 (400)\ttotal: 3.4s\tremaining: 3.39s\n",
      "600:\tlearn: 0.2556407\ttest: 0.3508111\tbest: 0.3487998 (400)\ttotal: 3.81s\tremaining: 2.53s\n",
      "700:\tlearn: 0.2456426\ttest: 0.3525299\tbest: 0.3487998 (400)\ttotal: 4.15s\tremaining: 1.77s\n",
      "800:\tlearn: 0.2368217\ttest: 0.3548911\tbest: 0.3487998 (400)\ttotal: 4.51s\tremaining: 1.12s\n",
      "900:\tlearn: 0.2290222\ttest: 0.3566490\tbest: 0.3487998 (400)\ttotal: 4.87s\tremaining: 535ms\n",
      "999:\tlearn: 0.2224694\ttest: 0.3588495\tbest: 0.3487998 (400)\ttotal: 5.22s\tremaining: 0us\n",
      "\n",
      "bestTest = 0.3487998312\n",
      "bestIteration = 400\n",
      "\n",
      "Shrink model to first 401 iterations.\n"
     ]
    },
    {
     "data": {
      "text/plain": [
       "<catboost.core.CatBoostRegressor at 0x7f4c5ae542e0>"
      ]
     },
     "execution_count": 31,
     "metadata": {},
     "output_type": "execute_result"
    }
   ],
   "source": [
    "cat_regr.fit(\n",
    "    train_dataset,\n",
    "    eval_set=test_dataset,\n",
    "    verbose=100,\n",
    ")"
   ]
  },
  {
   "cell_type": "code",
   "execution_count": 38,
   "metadata": {
    "colab": {
     "base_uri": "https://localhost:8080/"
    },
    "id": "uKju5ZmZ626_",
    "outputId": "79d925bc-06cf-4d02-bf58-511bca0cf22d"
   },
   "outputs": [
    {
     "name": "stdout",
     "output_type": "stream",
     "text": [
      "0.34879983310874124\n"
     ]
    }
   ],
   "source": [
    "rmse = mean_squared_error(list(y_test), cat_regr.predict(X_test_tfidf))**(1/2)\n",
    "print(rmse)"
   ]
  },
  {
   "cell_type": "code",
   "execution_count": 39,
   "metadata": {
    "colab": {
     "base_uri": "https://localhost:8080/"
    },
    "id": "G1sfI9lMOxRP",
    "outputId": "4ac2e1a3-43a4-4804-9c37-cc2ed55b3a51"
   },
   "outputs": [
    {
     "data": {
      "text/plain": [
       "{'nan_mode': 'Min',\n",
       " 'eval_metric': 'RMSE',\n",
       " 'iterations': 1000,\n",
       " 'sampling_frequency': 'PerTree',\n",
       " 'leaf_estimation_method': 'Newton',\n",
       " 'grow_policy': 'SymmetricTree',\n",
       " 'penalties_coefficient': 1,\n",
       " 'boosting_type': 'Plain',\n",
       " 'model_shrink_mode': 'Constant',\n",
       " 'feature_border_type': 'GreedyLogSum',\n",
       " 'bayesian_matrix_reg': 0.10000000149011612,\n",
       " 'force_unit_auto_pair_weights': False,\n",
       " 'l2_leaf_reg': 3,\n",
       " 'random_strength': 1,\n",
       " 'rsm': 1,\n",
       " 'boost_from_average': True,\n",
       " 'model_size_reg': 0.5,\n",
       " 'pool_metainfo_options': {'tags': {}},\n",
       " 'subsample': 0.800000011920929,\n",
       " 'use_best_model': True,\n",
       " 'random_seed': 0,\n",
       " 'depth': 6,\n",
       " 'posterior_sampling': False,\n",
       " 'border_count': 254,\n",
       " 'classes_count': 0,\n",
       " 'auto_class_weights': 'None',\n",
       " 'sparse_features_conflict_fraction': 0,\n",
       " 'leaf_estimation_backtracking': 'AnyImprovement',\n",
       " 'best_model_min_trees': 1,\n",
       " 'model_shrink_rate': 0,\n",
       " 'min_data_in_leaf': 1,\n",
       " 'loss_function': 'RMSE',\n",
       " 'learning_rate': 0.04812600091099739,\n",
       " 'score_function': 'Cosine',\n",
       " 'task_type': 'CPU',\n",
       " 'leaf_estimation_iterations': 1,\n",
       " 'bootstrap_type': 'MVS',\n",
       " 'max_leaves': 64}"
      ]
     },
     "execution_count": 39,
     "metadata": {},
     "output_type": "execute_result"
    }
   ],
   "source": [
    "cat_regr.get_all_params()"
   ]
  },
  {
   "cell_type": "code",
   "execution_count": 42,
   "metadata": {
    "id": "qCrSfoH46pk4"
   },
   "outputs": [],
   "source": [
    "# for logging in DVC\n",
    "\n",
    "baseline_model_params = dict()\n",
    "baseline_model_params['params'] = cat_regr.get_all_params()\n",
    "baseline_model_params['RMSE'] = rmse\n",
    "\n",
    "with open('baseline_model_params.json', 'w') as file:\n",
    "    json.dump(baseline_model_params, file)   "
   ]
  },
  {
   "cell_type": "code",
   "execution_count": 117,
   "metadata": {
    "id": "KcVrTghRTlUT"
   },
   "outputs": [],
   "source": [
    "with open('cat_regr_baseline_model.pkl', mode='wb') as file:\n",
    "        pickle.dump(cat_regr, file)"
   ]
  },
  {
   "cell_type": "markdown",
   "metadata": {
    "id": "xMFpRlSG91d8"
   },
   "source": [
    "## Hyperparameter enumeration"
   ]
  },
  {
   "cell_type": "code",
   "execution_count": 46,
   "metadata": {
    "id": "P24_mKEg8bNw"
   },
   "outputs": [],
   "source": [
    "import optuna"
   ]
  },
  {
   "cell_type": "code",
   "execution_count": 76,
   "metadata": {
    "id": "gVY51lWOBXlZ"
   },
   "outputs": [],
   "source": [
    "def objective_cat(trial):\n",
    "    \n",
    "    param = {\n",
    "        'n_estimators': \n",
    "            trial.suggest_categorical('n_estimators', \n",
    "                                      range(1000, 4001, 500)),\n",
    "        'penalties_coefficient': \n",
    "            trial.suggest_categorical('penalties_coefficient',\n",
    "                                      [x/100 for x in range(80, 151, 5)]),\n",
    "        'learning_rate': \n",
    "            trial.suggest_categorical('learning_rate',\n",
    "                                      [x/1000 for x in range(30, 101, 5)]),\n",
    "        'subsample': \n",
    "            trial.suggest_categorical('subsample',\n",
    "                                      [x/100 for x in range(50, 101, 5)]),\n",
    "        'min_child_samples': \n",
    "            trial.suggest_int('min_child_samples', \n",
    "                              100, 300),\n",
    "        'max_depth': \n",
    "            trial.suggest_categorical('max_depth', \n",
    "                                      range(4, 9, 1)),\n",
    "        'l2_leaf_reg':\n",
    "            trial.suggest_categorical('l2_leaf_reg',\n",
    "                                      [x/10 for x in range(20, 41, 5)]),\n",
    "        'model_size_reg':\n",
    "            trial.suggest_categorical('model_size_reg', \n",
    "                                      [x/100 for x in range(20, 80, 5)])\n",
    "    }\n",
    "\n",
    "    model = catboost.CatBoostRegressor(**param)  \n",
    "    \n",
    "    model.fit(X_train_tfidf, \n",
    "              y_train.to_pandas(), \n",
    "              eval_set=test_dataset, \n",
    "              early_stopping_rounds=750, \n",
    "              verbose=False)\n",
    "    \n",
    "    preds = model.predict(X_test_tfidf)\n",
    "    score = mean_squared_error(list(y_test), preds)**(1/2)\n",
    "    \n",
    "    return score"
   ]
  },
  {
   "cell_type": "code",
   "execution_count": 77,
   "metadata": {
    "colab": {
     "base_uri": "https://localhost:8080/"
    },
    "id": "DAdxHraV8bTF",
    "outputId": "fb5378ce-f09c-4240-894f-932d22974fa3"
   },
   "outputs": [
    {
     "name": "stderr",
     "output_type": "stream",
     "text": [
      "[I 2023-06-03 12:16:30,306] A new study created in memory with name: no-name-e166fc6f-1f0e-41d4-b485-e416cb44e66a\n",
      "[I 2023-06-03 12:16:43,206] Trial 0 finished with value: 0.35000886158783406 and parameters: {'n_estimators': 2000, 'penalties_coefficient': 1.05, 'learning_rate': 0.035, 'subsample': 0.65, 'min_child_samples': 298, 'max_depth': 8, 'l2_leaf_reg': 2.5, 'model_size_reg': 0.7}. Best is trial 0 with value: 0.35000886158783406.\n",
      "[I 2023-06-03 12:16:47,776] Trial 1 finished with value: 0.35133710568568827 and parameters: {'n_estimators': 2500, 'penalties_coefficient': 1.1, 'learning_rate': 0.065, 'subsample': 0.5, 'min_child_samples': 205, 'max_depth': 5, 'l2_leaf_reg': 2.5, 'model_size_reg': 0.4}. Best is trial 0 with value: 0.35000886158783406.\n",
      "[I 2023-06-03 12:16:51,649] Trial 2 finished with value: 0.35015502821466193 and parameters: {'n_estimators': 4000, 'penalties_coefficient': 1.1, 'learning_rate': 0.075, 'subsample': 0.75, 'min_child_samples': 203, 'max_depth': 6, 'l2_leaf_reg': 2.5, 'model_size_reg': 0.3}. Best is trial 0 with value: 0.35000886158783406.\n",
      "[I 2023-06-03 12:16:54,203] Trial 3 finished with value: 0.349329456142884 and parameters: {'n_estimators': 1000, 'penalties_coefficient': 1.35, 'learning_rate': 0.04, 'subsample': 0.95, 'min_child_samples': 196, 'max_depth': 5, 'l2_leaf_reg': 3.5, 'model_size_reg': 0.4}. Best is trial 3 with value: 0.349329456142884.\n",
      "[I 2023-06-03 12:17:05,072] Trial 4 finished with value: 0.3488724474677459 and parameters: {'n_estimators': 1500, 'penalties_coefficient': 1.4, 'learning_rate': 0.095, 'subsample': 0.95, 'min_child_samples': 197, 'max_depth': 8, 'l2_leaf_reg': 3.5, 'model_size_reg': 0.7}. Best is trial 4 with value: 0.3488724474677459.\n",
      "[I 2023-06-03 12:17:07,823] Trial 5 finished with value: 0.3484824651626045 and parameters: {'n_estimators': 3000, 'penalties_coefficient': 1.2, 'learning_rate': 0.035, 'subsample': 0.85, 'min_child_samples': 205, 'max_depth': 4, 'l2_leaf_reg': 4.0, 'model_size_reg': 0.65}. Best is trial 5 with value: 0.3484824651626045.\n",
      "[I 2023-06-03 12:17:16,128] Trial 6 finished with value: 0.349510289944689 and parameters: {'n_estimators': 3500, 'penalties_coefficient': 1.35, 'learning_rate': 0.055, 'subsample': 0.75, 'min_child_samples': 108, 'max_depth': 7, 'l2_leaf_reg': 3.0, 'model_size_reg': 0.65}. Best is trial 5 with value: 0.3484824651626045.\n",
      "[I 2023-06-03 12:17:19,394] Trial 7 finished with value: 0.352623701120203 and parameters: {'n_estimators': 3000, 'penalties_coefficient': 0.95, 'learning_rate': 0.1, 'subsample': 0.55, 'min_child_samples': 189, 'max_depth': 6, 'l2_leaf_reg': 2.0, 'model_size_reg': 0.75}. Best is trial 5 with value: 0.3484824651626045.\n",
      "[I 2023-06-03 12:17:28,130] Trial 8 finished with value: 0.350004158224837 and parameters: {'n_estimators': 1500, 'penalties_coefficient': 1.4, 'learning_rate': 0.035, 'subsample': 1.0, 'min_child_samples': 201, 'max_depth': 7, 'l2_leaf_reg': 2.0, 'model_size_reg': 0.7}. Best is trial 5 with value: 0.3484824651626045.\n",
      "[I 2023-06-03 12:17:33,635] Trial 9 finished with value: 0.35070045008012063 and parameters: {'n_estimators': 4000, 'penalties_coefficient': 1.05, 'learning_rate': 0.09, 'subsample': 0.95, 'min_child_samples': 202, 'max_depth': 7, 'l2_leaf_reg': 4.0, 'model_size_reg': 0.45}. Best is trial 5 with value: 0.3484824651626045.\n",
      "[I 2023-06-03 12:17:35,540] Trial 10 finished with value: 0.35012778162329095 and parameters: {'n_estimators': 3000, 'penalties_coefficient': 1.2, 'learning_rate': 0.085, 'subsample': 0.85, 'min_child_samples': 273, 'max_depth': 4, 'l2_leaf_reg': 4.0, 'model_size_reg': 0.65}. Best is trial 5 with value: 0.3484824651626045.\n",
      "[I 2023-06-03 12:17:38,438] Trial 11 finished with value: 0.34995364944392116 and parameters: {'n_estimators': 1500, 'penalties_coefficient': 1.2, 'learning_rate': 0.06, 'subsample': 0.9, 'min_child_samples': 145, 'max_depth': 4, 'l2_leaf_reg': 3.5, 'model_size_reg': 0.35}. Best is trial 5 with value: 0.3484824651626045.\n",
      "[I 2023-06-03 12:17:48,730] Trial 12 finished with value: 0.3494312512366427 and parameters: {'n_estimators': 1500, 'penalties_coefficient': 1.0, 'learning_rate': 0.095, 'subsample': 0.8, 'min_child_samples': 241, 'max_depth': 8, 'l2_leaf_reg': 4.0, 'model_size_reg': 0.5}. Best is trial 5 with value: 0.3484824651626045.\n",
      "[I 2023-06-03 12:18:00,241] Trial 13 finished with value: 0.3506552325187527 and parameters: {'n_estimators': 3000, 'penalties_coefficient': 1.5, 'learning_rate': 0.07, 'subsample': 0.85, 'min_child_samples': 154, 'max_depth': 8, 'l2_leaf_reg': 3.5, 'model_size_reg': 0.6}. Best is trial 5 with value: 0.3484824651626045.\n",
      "[I 2023-06-03 12:18:02,392] Trial 14 finished with value: 0.3498253945344831 and parameters: {'n_estimators': 2000, 'penalties_coefficient': 1.4, 'learning_rate': 0.05, 'subsample': 0.7, 'min_child_samples': 237, 'max_depth': 4, 'l2_leaf_reg': 3.0, 'model_size_reg': 0.2}. Best is trial 5 with value: 0.3484824651626045.\n",
      "[I 2023-06-03 12:18:13,408] Trial 15 finished with value: 0.3508612827152609 and parameters: {'n_estimators': 2500, 'penalties_coefficient': 1.15, 'learning_rate': 0.095, 'subsample': 0.6, 'min_child_samples': 159, 'max_depth': 8, 'l2_leaf_reg': 4.0, 'model_size_reg': 0.55}. Best is trial 5 with value: 0.3484824651626045.\n",
      "[I 2023-06-03 12:18:15,195] Trial 16 finished with value: 0.3506676988365994 and parameters: {'n_estimators': 1000, 'penalties_coefficient': 1.3, 'learning_rate': 0.03, 'subsample': 0.95, 'min_child_samples': 235, 'max_depth': 4, 'l2_leaf_reg': 3.5, 'model_size_reg': 0.25}. Best is trial 5 with value: 0.3484824651626045.\n",
      "[I 2023-06-03 12:18:18,218] Trial 17 finished with value: 0.35005850427825963 and parameters: {'n_estimators': 3500, 'penalties_coefficient': 1.25, 'learning_rate': 0.08, 'subsample': 0.85, 'min_child_samples': 178, 'max_depth': 4, 'l2_leaf_reg': 3.5, 'model_size_reg': 0.65}. Best is trial 5 with value: 0.3484824651626045.\n",
      "[I 2023-06-03 12:18:30,980] Trial 18 finished with value: 0.34999071776186824 and parameters: {'n_estimators': 1500, 'penalties_coefficient': 1.45, 'learning_rate': 0.045, 'subsample': 1.0, 'min_child_samples': 270, 'max_depth': 8, 'l2_leaf_reg': 4.0, 'model_size_reg': 0.7}. Best is trial 5 with value: 0.3484824651626045.\n",
      "[I 2023-06-03 12:18:34,377] Trial 19 finished with value: 0.3509657350805162 and parameters: {'n_estimators': 3000, 'penalties_coefficient': 0.9, 'learning_rate': 0.095, 'subsample': 0.5, 'min_child_samples': 224, 'max_depth': 5, 'l2_leaf_reg': 2.0, 'model_size_reg': 0.6}. Best is trial 5 with value: 0.3484824651626045.\n",
      "[I 2023-06-03 12:18:39,119] Trial 20 finished with value: 0.34827507198884117 and parameters: {'n_estimators': 1500, 'penalties_coefficient': 0.85, 'learning_rate': 0.035, 'subsample': 0.8, 'min_child_samples': 125, 'max_depth': 6, 'l2_leaf_reg': 3.0, 'model_size_reg': 0.2}. Best is trial 20 with value: 0.34827507198884117.\n",
      "[I 2023-06-03 12:18:44,175] Trial 21 finished with value: 0.34969720272010285 and parameters: {'n_estimators': 1500, 'penalties_coefficient': 0.85, 'learning_rate': 0.035, 'subsample': 0.7, 'min_child_samples': 115, 'max_depth': 6, 'l2_leaf_reg': 3.0, 'model_size_reg': 0.2}. Best is trial 20 with value: 0.34827507198884117.\n",
      "[I 2023-06-03 12:18:49,847] Trial 22 finished with value: 0.34827507198884117 and parameters: {'n_estimators': 1500, 'penalties_coefficient': 0.8, 'learning_rate': 0.035, 'subsample': 0.8, 'min_child_samples': 130, 'max_depth': 6, 'l2_leaf_reg': 3.0, 'model_size_reg': 0.2}. Best is trial 20 with value: 0.34827507198884117.\n",
      "[I 2023-06-03 12:18:54,586] Trial 23 finished with value: 0.34827507198884117 and parameters: {'n_estimators': 1500, 'penalties_coefficient': 0.8, 'learning_rate': 0.035, 'subsample': 0.8, 'min_child_samples': 129, 'max_depth': 6, 'l2_leaf_reg': 3.0, 'model_size_reg': 0.2}. Best is trial 20 with value: 0.34827507198884117.\n",
      "[I 2023-06-03 12:19:01,231] Trial 24 finished with value: 0.34827507198884117 and parameters: {'n_estimators': 1500, 'penalties_coefficient': 0.8, 'learning_rate': 0.035, 'subsample': 0.8, 'min_child_samples': 132, 'max_depth': 6, 'l2_leaf_reg': 3.0, 'model_size_reg': 0.2}. Best is trial 20 with value: 0.34827507198884117.\n",
      "[I 2023-06-03 12:19:05,948] Trial 25 finished with value: 0.34827507198884117 and parameters: {'n_estimators': 1500, 'penalties_coefficient': 0.8, 'learning_rate': 0.035, 'subsample': 0.8, 'min_child_samples': 124, 'max_depth': 6, 'l2_leaf_reg': 3.0, 'model_size_reg': 0.2}. Best is trial 20 with value: 0.34827507198884117.\n",
      "[I 2023-06-03 12:19:12,612] Trial 26 finished with value: 0.34827507198884117 and parameters: {'n_estimators': 1500, 'penalties_coefficient': 0.85, 'learning_rate': 0.035, 'subsample': 0.8, 'min_child_samples': 100, 'max_depth': 6, 'l2_leaf_reg': 3.0, 'model_size_reg': 0.2}. Best is trial 20 with value: 0.34827507198884117.\n",
      "[I 2023-06-03 12:19:16,603] Trial 27 finished with value: 0.3479464940483275 and parameters: {'n_estimators': 1500, 'penalties_coefficient': 0.8, 'learning_rate': 0.055, 'subsample': 0.8, 'min_child_samples': 137, 'max_depth': 6, 'l2_leaf_reg': 3.0, 'model_size_reg': 0.2}. Best is trial 27 with value: 0.3479464940483275.\n",
      "[I 2023-06-03 12:19:20,656] Trial 28 finished with value: 0.3479464940483275 and parameters: {'n_estimators': 1500, 'penalties_coefficient': 0.85, 'learning_rate': 0.055, 'subsample': 0.8, 'min_child_samples': 175, 'max_depth': 6, 'l2_leaf_reg': 3.0, 'model_size_reg': 0.2}. Best is trial 27 with value: 0.3479464940483275.\n",
      "[I 2023-06-03 12:19:26,373] Trial 29 finished with value: 0.3494206369468878 and parameters: {'n_estimators': 2000, 'penalties_coefficient': 0.85, 'learning_rate': 0.055, 'subsample': 0.65, 'min_child_samples': 169, 'max_depth': 6, 'l2_leaf_reg': 3.0, 'model_size_reg': 0.5}. Best is trial 27 with value: 0.3479464940483275.\n"
     ]
    },
    {
     "name": "stdout",
     "output_type": "stream",
     "text": [
      "Number of finished trials: 30\n",
      "Best trial: {'n_estimators': 1500, 'penalties_coefficient': 0.8, 'learning_rate': 0.055, 'subsample': 0.8, 'min_child_samples': 137, 'max_depth': 6, 'l2_leaf_reg': 3.0, 'model_size_reg': 0.2}\n"
     ]
    }
   ],
   "source": [
    "study = optuna.create_study(direction=\"minimize\")\n",
    "study.optimize(objective_cat, n_trials=30)\n",
    "print('Number of finished trials:', len(study.trials))\n",
    "print('Best trial:', study.best_trial.params)"
   ]
  },
  {
   "cell_type": "code",
   "execution_count": 78,
   "metadata": {
    "colab": {
     "base_uri": "https://localhost:8080/",
     "height": 542
    },
    "id": "Lyb44PaUMxfE",
    "outputId": "7a0d3dc2-ad87-4fc5-e2b3-5edbdb141592"
   },
   "outputs": [
    {
     "data": {
      "text/html": [
       "<html>\n",
       "<head><meta charset=\"utf-8\" /></head>\n",
       "<body>\n",
       "    <div>            <script src=\"https://cdnjs.cloudflare.com/ajax/libs/mathjax/2.7.5/MathJax.js?config=TeX-AMS-MML_SVG\"></script><script type=\"text/javascript\">if (window.MathJax && window.MathJax.Hub && window.MathJax.Hub.Config) {window.MathJax.Hub.Config({SVG: {font: \"STIX-Web\"}});}</script>                <script type=\"text/javascript\">window.PlotlyConfig = {MathJaxConfig: 'local'};</script>\n",
       "        <script src=\"https://cdn.plot.ly/plotly-2.18.2.min.js\"></script>                <div id=\"737cf949-7d8e-4863-87d7-407a198c577a\" class=\"plotly-graph-div\" style=\"height:525px; width:100%;\"></div>            <script type=\"text/javascript\">                                    window.PLOTLYENV=window.PLOTLYENV || {};                                    if (document.getElementById(\"737cf949-7d8e-4863-87d7-407a198c577a\")) {                    Plotly.newPlot(                        \"737cf949-7d8e-4863-87d7-407a198c577a\",                        [{\"mode\":\"markers\",\"name\":\"Objective Value\",\"x\":[0,1,2,3,4,5,6,7,8,9,10,11,12,13,14,15,16,17,18,19,20,21,22,23,24,25,26,27,28,29],\"y\":[0.35000886158783406,0.35133710568568827,0.35015502821466193,0.349329456142884,0.3488724474677459,0.3484824651626045,0.349510289944689,0.352623701120203,0.350004158224837,0.35070045008012063,0.35012778162329095,0.34995364944392116,0.3494312512366427,0.3506552325187527,0.3498253945344831,0.3508612827152609,0.3506676988365994,0.35005850427825963,0.34999071776186824,0.3509657350805162,0.34827507198884117,0.34969720272010285,0.34827507198884117,0.34827507198884117,0.34827507198884117,0.34827507198884117,0.34827507198884117,0.3479464940483275,0.3479464940483275,0.3494206369468878],\"type\":\"scatter\"},{\"name\":\"Best Value\",\"x\":[0,1,2,3,4,5,6,7,8,9,10,11,12,13,14,15,16,17,18,19,20,21,22,23,24,25,26,27,28,29],\"y\":[0.35000886158783406,0.35000886158783406,0.35000886158783406,0.349329456142884,0.3488724474677459,0.3484824651626045,0.3484824651626045,0.3484824651626045,0.3484824651626045,0.3484824651626045,0.3484824651626045,0.3484824651626045,0.3484824651626045,0.3484824651626045,0.3484824651626045,0.3484824651626045,0.3484824651626045,0.3484824651626045,0.3484824651626045,0.3484824651626045,0.34827507198884117,0.34827507198884117,0.34827507198884117,0.34827507198884117,0.34827507198884117,0.34827507198884117,0.34827507198884117,0.3479464940483275,0.3479464940483275,0.3479464940483275],\"type\":\"scatter\"}],                        {\"title\":{\"text\":\"Optimization History Plot\"},\"xaxis\":{\"title\":{\"text\":\"Trial\"}},\"yaxis\":{\"title\":{\"text\":\"Objective Value\"}},\"template\":{\"data\":{\"histogram2dcontour\":[{\"type\":\"histogram2dcontour\",\"colorbar\":{\"outlinewidth\":0,\"ticks\":\"\"},\"colorscale\":[[0.0,\"#0d0887\"],[0.1111111111111111,\"#46039f\"],[0.2222222222222222,\"#7201a8\"],[0.3333333333333333,\"#9c179e\"],[0.4444444444444444,\"#bd3786\"],[0.5555555555555556,\"#d8576b\"],[0.6666666666666666,\"#ed7953\"],[0.7777777777777778,\"#fb9f3a\"],[0.8888888888888888,\"#fdca26\"],[1.0,\"#f0f921\"]]}],\"choropleth\":[{\"type\":\"choropleth\",\"colorbar\":{\"outlinewidth\":0,\"ticks\":\"\"}}],\"histogram2d\":[{\"type\":\"histogram2d\",\"colorbar\":{\"outlinewidth\":0,\"ticks\":\"\"},\"colorscale\":[[0.0,\"#0d0887\"],[0.1111111111111111,\"#46039f\"],[0.2222222222222222,\"#7201a8\"],[0.3333333333333333,\"#9c179e\"],[0.4444444444444444,\"#bd3786\"],[0.5555555555555556,\"#d8576b\"],[0.6666666666666666,\"#ed7953\"],[0.7777777777777778,\"#fb9f3a\"],[0.8888888888888888,\"#fdca26\"],[1.0,\"#f0f921\"]]}],\"heatmap\":[{\"type\":\"heatmap\",\"colorbar\":{\"outlinewidth\":0,\"ticks\":\"\"},\"colorscale\":[[0.0,\"#0d0887\"],[0.1111111111111111,\"#46039f\"],[0.2222222222222222,\"#7201a8\"],[0.3333333333333333,\"#9c179e\"],[0.4444444444444444,\"#bd3786\"],[0.5555555555555556,\"#d8576b\"],[0.6666666666666666,\"#ed7953\"],[0.7777777777777778,\"#fb9f3a\"],[0.8888888888888888,\"#fdca26\"],[1.0,\"#f0f921\"]]}],\"heatmapgl\":[{\"type\":\"heatmapgl\",\"colorbar\":{\"outlinewidth\":0,\"ticks\":\"\"},\"colorscale\":[[0.0,\"#0d0887\"],[0.1111111111111111,\"#46039f\"],[0.2222222222222222,\"#7201a8\"],[0.3333333333333333,\"#9c179e\"],[0.4444444444444444,\"#bd3786\"],[0.5555555555555556,\"#d8576b\"],[0.6666666666666666,\"#ed7953\"],[0.7777777777777778,\"#fb9f3a\"],[0.8888888888888888,\"#fdca26\"],[1.0,\"#f0f921\"]]}],\"contourcarpet\":[{\"type\":\"contourcarpet\",\"colorbar\":{\"outlinewidth\":0,\"ticks\":\"\"}}],\"contour\":[{\"type\":\"contour\",\"colorbar\":{\"outlinewidth\":0,\"ticks\":\"\"},\"colorscale\":[[0.0,\"#0d0887\"],[0.1111111111111111,\"#46039f\"],[0.2222222222222222,\"#7201a8\"],[0.3333333333333333,\"#9c179e\"],[0.4444444444444444,\"#bd3786\"],[0.5555555555555556,\"#d8576b\"],[0.6666666666666666,\"#ed7953\"],[0.7777777777777778,\"#fb9f3a\"],[0.8888888888888888,\"#fdca26\"],[1.0,\"#f0f921\"]]}],\"surface\":[{\"type\":\"surface\",\"colorbar\":{\"outlinewidth\":0,\"ticks\":\"\"},\"colorscale\":[[0.0,\"#0d0887\"],[0.1111111111111111,\"#46039f\"],[0.2222222222222222,\"#7201a8\"],[0.3333333333333333,\"#9c179e\"],[0.4444444444444444,\"#bd3786\"],[0.5555555555555556,\"#d8576b\"],[0.6666666666666666,\"#ed7953\"],[0.7777777777777778,\"#fb9f3a\"],[0.8888888888888888,\"#fdca26\"],[1.0,\"#f0f921\"]]}],\"mesh3d\":[{\"type\":\"mesh3d\",\"colorbar\":{\"outlinewidth\":0,\"ticks\":\"\"}}],\"scatter\":[{\"fillpattern\":{\"fillmode\":\"overlay\",\"size\":10,\"solidity\":0.2},\"type\":\"scatter\"}],\"parcoords\":[{\"type\":\"parcoords\",\"line\":{\"colorbar\":{\"outlinewidth\":0,\"ticks\":\"\"}}}],\"scatterpolargl\":[{\"type\":\"scatterpolargl\",\"marker\":{\"colorbar\":{\"outlinewidth\":0,\"ticks\":\"\"}}}],\"bar\":[{\"error_x\":{\"color\":\"#2a3f5f\"},\"error_y\":{\"color\":\"#2a3f5f\"},\"marker\":{\"line\":{\"color\":\"#E5ECF6\",\"width\":0.5},\"pattern\":{\"fillmode\":\"overlay\",\"size\":10,\"solidity\":0.2}},\"type\":\"bar\"}],\"scattergeo\":[{\"type\":\"scattergeo\",\"marker\":{\"colorbar\":{\"outlinewidth\":0,\"ticks\":\"\"}}}],\"scatterpolar\":[{\"type\":\"scatterpolar\",\"marker\":{\"colorbar\":{\"outlinewidth\":0,\"ticks\":\"\"}}}],\"histogram\":[{\"marker\":{\"pattern\":{\"fillmode\":\"overlay\",\"size\":10,\"solidity\":0.2}},\"type\":\"histogram\"}],\"scattergl\":[{\"type\":\"scattergl\",\"marker\":{\"colorbar\":{\"outlinewidth\":0,\"ticks\":\"\"}}}],\"scatter3d\":[{\"type\":\"scatter3d\",\"line\":{\"colorbar\":{\"outlinewidth\":0,\"ticks\":\"\"}},\"marker\":{\"colorbar\":{\"outlinewidth\":0,\"ticks\":\"\"}}}],\"scattermapbox\":[{\"type\":\"scattermapbox\",\"marker\":{\"colorbar\":{\"outlinewidth\":0,\"ticks\":\"\"}}}],\"scatterternary\":[{\"type\":\"scatterternary\",\"marker\":{\"colorbar\":{\"outlinewidth\":0,\"ticks\":\"\"}}}],\"scattercarpet\":[{\"type\":\"scattercarpet\",\"marker\":{\"colorbar\":{\"outlinewidth\":0,\"ticks\":\"\"}}}],\"carpet\":[{\"aaxis\":{\"endlinecolor\":\"#2a3f5f\",\"gridcolor\":\"white\",\"linecolor\":\"white\",\"minorgridcolor\":\"white\",\"startlinecolor\":\"#2a3f5f\"},\"baxis\":{\"endlinecolor\":\"#2a3f5f\",\"gridcolor\":\"white\",\"linecolor\":\"white\",\"minorgridcolor\":\"white\",\"startlinecolor\":\"#2a3f5f\"},\"type\":\"carpet\"}],\"table\":[{\"cells\":{\"fill\":{\"color\":\"#EBF0F8\"},\"line\":{\"color\":\"white\"}},\"header\":{\"fill\":{\"color\":\"#C8D4E3\"},\"line\":{\"color\":\"white\"}},\"type\":\"table\"}],\"barpolar\":[{\"marker\":{\"line\":{\"color\":\"#E5ECF6\",\"width\":0.5},\"pattern\":{\"fillmode\":\"overlay\",\"size\":10,\"solidity\":0.2}},\"type\":\"barpolar\"}],\"pie\":[{\"automargin\":true,\"type\":\"pie\"}]},\"layout\":{\"autotypenumbers\":\"strict\",\"colorway\":[\"#636efa\",\"#EF553B\",\"#00cc96\",\"#ab63fa\",\"#FFA15A\",\"#19d3f3\",\"#FF6692\",\"#B6E880\",\"#FF97FF\",\"#FECB52\"],\"font\":{\"color\":\"#2a3f5f\"},\"hovermode\":\"closest\",\"hoverlabel\":{\"align\":\"left\"},\"paper_bgcolor\":\"white\",\"plot_bgcolor\":\"#E5ECF6\",\"polar\":{\"bgcolor\":\"#E5ECF6\",\"angularaxis\":{\"gridcolor\":\"white\",\"linecolor\":\"white\",\"ticks\":\"\"},\"radialaxis\":{\"gridcolor\":\"white\",\"linecolor\":\"white\",\"ticks\":\"\"}},\"ternary\":{\"bgcolor\":\"#E5ECF6\",\"aaxis\":{\"gridcolor\":\"white\",\"linecolor\":\"white\",\"ticks\":\"\"},\"baxis\":{\"gridcolor\":\"white\",\"linecolor\":\"white\",\"ticks\":\"\"},\"caxis\":{\"gridcolor\":\"white\",\"linecolor\":\"white\",\"ticks\":\"\"}},\"coloraxis\":{\"colorbar\":{\"outlinewidth\":0,\"ticks\":\"\"}},\"colorscale\":{\"sequential\":[[0.0,\"#0d0887\"],[0.1111111111111111,\"#46039f\"],[0.2222222222222222,\"#7201a8\"],[0.3333333333333333,\"#9c179e\"],[0.4444444444444444,\"#bd3786\"],[0.5555555555555556,\"#d8576b\"],[0.6666666666666666,\"#ed7953\"],[0.7777777777777778,\"#fb9f3a\"],[0.8888888888888888,\"#fdca26\"],[1.0,\"#f0f921\"]],\"sequentialminus\":[[0.0,\"#0d0887\"],[0.1111111111111111,\"#46039f\"],[0.2222222222222222,\"#7201a8\"],[0.3333333333333333,\"#9c179e\"],[0.4444444444444444,\"#bd3786\"],[0.5555555555555556,\"#d8576b\"],[0.6666666666666666,\"#ed7953\"],[0.7777777777777778,\"#fb9f3a\"],[0.8888888888888888,\"#fdca26\"],[1.0,\"#f0f921\"]],\"diverging\":[[0,\"#8e0152\"],[0.1,\"#c51b7d\"],[0.2,\"#de77ae\"],[0.3,\"#f1b6da\"],[0.4,\"#fde0ef\"],[0.5,\"#f7f7f7\"],[0.6,\"#e6f5d0\"],[0.7,\"#b8e186\"],[0.8,\"#7fbc41\"],[0.9,\"#4d9221\"],[1,\"#276419\"]]},\"xaxis\":{\"gridcolor\":\"white\",\"linecolor\":\"white\",\"ticks\":\"\",\"title\":{\"standoff\":15},\"zerolinecolor\":\"white\",\"automargin\":true,\"zerolinewidth\":2},\"yaxis\":{\"gridcolor\":\"white\",\"linecolor\":\"white\",\"ticks\":\"\",\"title\":{\"standoff\":15},\"zerolinecolor\":\"white\",\"automargin\":true,\"zerolinewidth\":2},\"scene\":{\"xaxis\":{\"backgroundcolor\":\"#E5ECF6\",\"gridcolor\":\"white\",\"linecolor\":\"white\",\"showbackground\":true,\"ticks\":\"\",\"zerolinecolor\":\"white\",\"gridwidth\":2},\"yaxis\":{\"backgroundcolor\":\"#E5ECF6\",\"gridcolor\":\"white\",\"linecolor\":\"white\",\"showbackground\":true,\"ticks\":\"\",\"zerolinecolor\":\"white\",\"gridwidth\":2},\"zaxis\":{\"backgroundcolor\":\"#E5ECF6\",\"gridcolor\":\"white\",\"linecolor\":\"white\",\"showbackground\":true,\"ticks\":\"\",\"zerolinecolor\":\"white\",\"gridwidth\":2}},\"shapedefaults\":{\"line\":{\"color\":\"#2a3f5f\"}},\"annotationdefaults\":{\"arrowcolor\":\"#2a3f5f\",\"arrowhead\":0,\"arrowwidth\":1},\"geo\":{\"bgcolor\":\"white\",\"landcolor\":\"#E5ECF6\",\"subunitcolor\":\"white\",\"showland\":true,\"showlakes\":true,\"lakecolor\":\"white\"},\"title\":{\"x\":0.05},\"mapbox\":{\"style\":\"light\"}}}},                        {\"responsive\": true}                    ).then(function(){\n",
       "                            \n",
       "var gd = document.getElementById('737cf949-7d8e-4863-87d7-407a198c577a');\n",
       "var x = new MutationObserver(function (mutations, observer) {{\n",
       "        var display = window.getComputedStyle(gd).display;\n",
       "        if (!display || display === 'none') {{\n",
       "            console.log([gd, 'removed!']);\n",
       "            Plotly.purge(gd);\n",
       "            observer.disconnect();\n",
       "        }}\n",
       "}});\n",
       "\n",
       "// Listen for the removal of the full notebook cells\n",
       "var notebookContainer = gd.closest('#notebook-container');\n",
       "if (notebookContainer) {{\n",
       "    x.observe(notebookContainer, {childList: true});\n",
       "}}\n",
       "\n",
       "// Listen for the clearing of the current output cell\n",
       "var outputEl = gd.closest('.output');\n",
       "if (outputEl) {{\n",
       "    x.observe(outputEl, {childList: true});\n",
       "}}\n",
       "\n",
       "                        })                };                            </script>        </div>\n",
       "</body>\n",
       "</html>"
      ]
     },
     "metadata": {},
     "output_type": "display_data"
    }
   ],
   "source": [
    "optuna.visualization.plot_optimization_history(study)"
   ]
  },
  {
   "attachments": {
    "%D0%A1%D0%BD%D0%B8%D0%BC%D0%BE%D0%BA.PNG": {
     "image/png": "[encoded data removed]"
    }
   },
   "cell_type": "markdown",
   "metadata": {},
   "source": [
    "![%D0%A1%D0%BD%D0%B8%D0%BC%D0%BE%D0%BA.PNG](attachment:%D0%A1%D0%BD%D0%B8%D0%BC%D0%BE%D0%BA.PNG)"
   ]
  },
  {
   "cell_type": "code",
   "execution_count": 83,
   "metadata": {
    "colab": {
     "base_uri": "https://localhost:8080/",
     "height": 542
    },
    "id": "XFKgI8N6NxQn",
    "outputId": "1f022bdd-7360-408e-b8a9-3abd49781575"
   },
   "outputs": [
    {
     "data": {
      "text/html": [
       "<html>\n",
       "<head><meta charset=\"utf-8\" /></head>\n",
       "<body>\n",
       "    <div>            <script src=\"https://cdnjs.cloudflare.com/ajax/libs/mathjax/2.7.5/MathJax.js?config=TeX-AMS-MML_SVG\"></script><script type=\"text/javascript\">if (window.MathJax && window.MathJax.Hub && window.MathJax.Hub.Config) {window.MathJax.Hub.Config({SVG: {font: \"STIX-Web\"}});}</script>                <script type=\"text/javascript\">window.PlotlyConfig = {MathJaxConfig: 'local'};</script>\n",
       "        <script src=\"https://cdn.plot.ly/plotly-2.18.2.min.js\"></script>                <div id=\"617a946b-ffeb-4b1c-b182-0d8e56604c79\" class=\"plotly-graph-div\" style=\"height:525px; width:100%;\"></div>            <script type=\"text/javascript\">                                    window.PLOTLYENV=window.PLOTLYENV || {};                                    if (document.getElementById(\"617a946b-ffeb-4b1c-b182-0d8e56604c79\")) {                    Plotly.newPlot(                        \"617a946b-ffeb-4b1c-b182-0d8e56604c79\",                        [{\"cliponaxis\":false,\"hovertemplate\":[\"max_depth (CategoricalDistribution): 0.02145458854991805<extra></extra>\",\"l2_leaf_reg (CategoricalDistribution): 0.031214272585406967<extra></extra>\",\"min_child_samples (IntDistribution): 0.034790078729016724<extra></extra>\",\"penalties_coefficient (CategoricalDistribution): 0.057230633507758435<extra></extra>\",\"learning_rate (CategoricalDistribution): 0.0755608703078139<extra></extra>\",\"n_estimators (CategoricalDistribution): 0.08410179732460744<extra></extra>\",\"model_size_reg (CategoricalDistribution): 0.13564239551468416<extra></extra>\",\"subsample (CategoricalDistribution): 0.5600053634807943<extra></extra>\"],\"marker\":{\"color\":\"rgb(66,146,198)\"},\"orientation\":\"h\",\"text\":[\"0.02\",\"0.03\",\"0.03\",\"0.06\",\"0.08\",\"0.08\",\"0.14\",\"0.56\"],\"textposition\":\"outside\",\"x\":[0.02145458854991805,0.031214272585406967,0.034790078729016724,0.057230633507758435,0.0755608703078139,0.08410179732460744,0.13564239551468416,0.5600053634807943],\"y\":[\"max_depth\",\"l2_leaf_reg\",\"min_child_samples\",\"penalties_coefficient\",\"learning_rate\",\"n_estimators\",\"model_size_reg\",\"subsample\"],\"type\":\"bar\"}],                        {\"showlegend\":false,\"title\":{\"text\":\"Hyperparameter Importances\"},\"xaxis\":{\"title\":{\"text\":\"Importance for Objective Value\"}},\"yaxis\":{\"title\":{\"text\":\"Hyperparameter\"}},\"template\":{\"data\":{\"histogram2dcontour\":[{\"type\":\"histogram2dcontour\",\"colorbar\":{\"outlinewidth\":0,\"ticks\":\"\"},\"colorscale\":[[0.0,\"#0d0887\"],[0.1111111111111111,\"#46039f\"],[0.2222222222222222,\"#7201a8\"],[0.3333333333333333,\"#9c179e\"],[0.4444444444444444,\"#bd3786\"],[0.5555555555555556,\"#d8576b\"],[0.6666666666666666,\"#ed7953\"],[0.7777777777777778,\"#fb9f3a\"],[0.8888888888888888,\"#fdca26\"],[1.0,\"#f0f921\"]]}],\"choropleth\":[{\"type\":\"choropleth\",\"colorbar\":{\"outlinewidth\":0,\"ticks\":\"\"}}],\"histogram2d\":[{\"type\":\"histogram2d\",\"colorbar\":{\"outlinewidth\":0,\"ticks\":\"\"},\"colorscale\":[[0.0,\"#0d0887\"],[0.1111111111111111,\"#46039f\"],[0.2222222222222222,\"#7201a8\"],[0.3333333333333333,\"#9c179e\"],[0.4444444444444444,\"#bd3786\"],[0.5555555555555556,\"#d8576b\"],[0.6666666666666666,\"#ed7953\"],[0.7777777777777778,\"#fb9f3a\"],[0.8888888888888888,\"#fdca26\"],[1.0,\"#f0f921\"]]}],\"heatmap\":[{\"type\":\"heatmap\",\"colorbar\":{\"outlinewidth\":0,\"ticks\":\"\"},\"colorscale\":[[0.0,\"#0d0887\"],[0.1111111111111111,\"#46039f\"],[0.2222222222222222,\"#7201a8\"],[0.3333333333333333,\"#9c179e\"],[0.4444444444444444,\"#bd3786\"],[0.5555555555555556,\"#d8576b\"],[0.6666666666666666,\"#ed7953\"],[0.7777777777777778,\"#fb9f3a\"],[0.8888888888888888,\"#fdca26\"],[1.0,\"#f0f921\"]]}],\"heatmapgl\":[{\"type\":\"heatmapgl\",\"colorbar\":{\"outlinewidth\":0,\"ticks\":\"\"},\"colorscale\":[[0.0,\"#0d0887\"],[0.1111111111111111,\"#46039f\"],[0.2222222222222222,\"#7201a8\"],[0.3333333333333333,\"#9c179e\"],[0.4444444444444444,\"#bd3786\"],[0.5555555555555556,\"#d8576b\"],[0.6666666666666666,\"#ed7953\"],[0.7777777777777778,\"#fb9f3a\"],[0.8888888888888888,\"#fdca26\"],[1.0,\"#f0f921\"]]}],\"contourcarpet\":[{\"type\":\"contourcarpet\",\"colorbar\":{\"outlinewidth\":0,\"ticks\":\"\"}}],\"contour\":[{\"type\":\"contour\",\"colorbar\":{\"outlinewidth\":0,\"ticks\":\"\"},\"colorscale\":[[0.0,\"#0d0887\"],[0.1111111111111111,\"#46039f\"],[0.2222222222222222,\"#7201a8\"],[0.3333333333333333,\"#9c179e\"],[0.4444444444444444,\"#bd3786\"],[0.5555555555555556,\"#d8576b\"],[0.6666666666666666,\"#ed7953\"],[0.7777777777777778,\"#fb9f3a\"],[0.8888888888888888,\"#fdca26\"],[1.0,\"#f0f921\"]]}],\"surface\":[{\"type\":\"surface\",\"colorbar\":{\"outlinewidth\":0,\"ticks\":\"\"},\"colorscale\":[[0.0,\"#0d0887\"],[0.1111111111111111,\"#46039f\"],[0.2222222222222222,\"#7201a8\"],[0.3333333333333333,\"#9c179e\"],[0.4444444444444444,\"#bd3786\"],[0.5555555555555556,\"#d8576b\"],[0.6666666666666666,\"#ed7953\"],[0.7777777777777778,\"#fb9f3a\"],[0.8888888888888888,\"#fdca26\"],[1.0,\"#f0f921\"]]}],\"mesh3d\":[{\"type\":\"mesh3d\",\"colorbar\":{\"outlinewidth\":0,\"ticks\":\"\"}}],\"scatter\":[{\"fillpattern\":{\"fillmode\":\"overlay\",\"size\":10,\"solidity\":0.2},\"type\":\"scatter\"}],\"parcoords\":[{\"type\":\"parcoords\",\"line\":{\"colorbar\":{\"outlinewidth\":0,\"ticks\":\"\"}}}],\"scatterpolargl\":[{\"type\":\"scatterpolargl\",\"marker\":{\"colorbar\":{\"outlinewidth\":0,\"ticks\":\"\"}}}],\"bar\":[{\"error_x\":{\"color\":\"#2a3f5f\"},\"error_y\":{\"color\":\"#2a3f5f\"},\"marker\":{\"line\":{\"color\":\"#E5ECF6\",\"width\":0.5},\"pattern\":{\"fillmode\":\"overlay\",\"size\":10,\"solidity\":0.2}},\"type\":\"bar\"}],\"scattergeo\":[{\"type\":\"scattergeo\",\"marker\":{\"colorbar\":{\"outlinewidth\":0,\"ticks\":\"\"}}}],\"scatterpolar\":[{\"type\":\"scatterpolar\",\"marker\":{\"colorbar\":{\"outlinewidth\":0,\"ticks\":\"\"}}}],\"histogram\":[{\"marker\":{\"pattern\":{\"fillmode\":\"overlay\",\"size\":10,\"solidity\":0.2}},\"type\":\"histogram\"}],\"scattergl\":[{\"type\":\"scattergl\",\"marker\":{\"colorbar\":{\"outlinewidth\":0,\"ticks\":\"\"}}}],\"scatter3d\":[{\"type\":\"scatter3d\",\"line\":{\"colorbar\":{\"outlinewidth\":0,\"ticks\":\"\"}},\"marker\":{\"colorbar\":{\"outlinewidth\":0,\"ticks\":\"\"}}}],\"scattermapbox\":[{\"type\":\"scattermapbox\",\"marker\":{\"colorbar\":{\"outlinewidth\":0,\"ticks\":\"\"}}}],\"scatterternary\":[{\"type\":\"scatterternary\",\"marker\":{\"colorbar\":{\"outlinewidth\":0,\"ticks\":\"\"}}}],\"scattercarpet\":[{\"type\":\"scattercarpet\",\"marker\":{\"colorbar\":{\"outlinewidth\":0,\"ticks\":\"\"}}}],\"carpet\":[{\"aaxis\":{\"endlinecolor\":\"#2a3f5f\",\"gridcolor\":\"white\",\"linecolor\":\"white\",\"minorgridcolor\":\"white\",\"startlinecolor\":\"#2a3f5f\"},\"baxis\":{\"endlinecolor\":\"#2a3f5f\",\"gridcolor\":\"white\",\"linecolor\":\"white\",\"minorgridcolor\":\"white\",\"startlinecolor\":\"#2a3f5f\"},\"type\":\"carpet\"}],\"table\":[{\"cells\":{\"fill\":{\"color\":\"#EBF0F8\"},\"line\":{\"color\":\"white\"}},\"header\":{\"fill\":{\"color\":\"#C8D4E3\"},\"line\":{\"color\":\"white\"}},\"type\":\"table\"}],\"barpolar\":[{\"marker\":{\"line\":{\"color\":\"#E5ECF6\",\"width\":0.5},\"pattern\":{\"fillmode\":\"overlay\",\"size\":10,\"solidity\":0.2}},\"type\":\"barpolar\"}],\"pie\":[{\"automargin\":true,\"type\":\"pie\"}]},\"layout\":{\"autotypenumbers\":\"strict\",\"colorway\":[\"#636efa\",\"#EF553B\",\"#00cc96\",\"#ab63fa\",\"#FFA15A\",\"#19d3f3\",\"#FF6692\",\"#B6E880\",\"#FF97FF\",\"#FECB52\"],\"font\":{\"color\":\"#2a3f5f\"},\"hovermode\":\"closest\",\"hoverlabel\":{\"align\":\"left\"},\"paper_bgcolor\":\"white\",\"plot_bgcolor\":\"#E5ECF6\",\"polar\":{\"bgcolor\":\"#E5ECF6\",\"angularaxis\":{\"gridcolor\":\"white\",\"linecolor\":\"white\",\"ticks\":\"\"},\"radialaxis\":{\"gridcolor\":\"white\",\"linecolor\":\"white\",\"ticks\":\"\"}},\"ternary\":{\"bgcolor\":\"#E5ECF6\",\"aaxis\":{\"gridcolor\":\"white\",\"linecolor\":\"white\",\"ticks\":\"\"},\"baxis\":{\"gridcolor\":\"white\",\"linecolor\":\"white\",\"ticks\":\"\"},\"caxis\":{\"gridcolor\":\"white\",\"linecolor\":\"white\",\"ticks\":\"\"}},\"coloraxis\":{\"colorbar\":{\"outlinewidth\":0,\"ticks\":\"\"}},\"colorscale\":{\"sequential\":[[0.0,\"#0d0887\"],[0.1111111111111111,\"#46039f\"],[0.2222222222222222,\"#7201a8\"],[0.3333333333333333,\"#9c179e\"],[0.4444444444444444,\"#bd3786\"],[0.5555555555555556,\"#d8576b\"],[0.6666666666666666,\"#ed7953\"],[0.7777777777777778,\"#fb9f3a\"],[0.8888888888888888,\"#fdca26\"],[1.0,\"#f0f921\"]],\"sequentialminus\":[[0.0,\"#0d0887\"],[0.1111111111111111,\"#46039f\"],[0.2222222222222222,\"#7201a8\"],[0.3333333333333333,\"#9c179e\"],[0.4444444444444444,\"#bd3786\"],[0.5555555555555556,\"#d8576b\"],[0.6666666666666666,\"#ed7953\"],[0.7777777777777778,\"#fb9f3a\"],[0.8888888888888888,\"#fdca26\"],[1.0,\"#f0f921\"]],\"diverging\":[[0,\"#8e0152\"],[0.1,\"#c51b7d\"],[0.2,\"#de77ae\"],[0.3,\"#f1b6da\"],[0.4,\"#fde0ef\"],[0.5,\"#f7f7f7\"],[0.6,\"#e6f5d0\"],[0.7,\"#b8e186\"],[0.8,\"#7fbc41\"],[0.9,\"#4d9221\"],[1,\"#276419\"]]},\"xaxis\":{\"gridcolor\":\"white\",\"linecolor\":\"white\",\"ticks\":\"\",\"title\":{\"standoff\":15},\"zerolinecolor\":\"white\",\"automargin\":true,\"zerolinewidth\":2},\"yaxis\":{\"gridcolor\":\"white\",\"linecolor\":\"white\",\"ticks\":\"\",\"title\":{\"standoff\":15},\"zerolinecolor\":\"white\",\"automargin\":true,\"zerolinewidth\":2},\"scene\":{\"xaxis\":{\"backgroundcolor\":\"#E5ECF6\",\"gridcolor\":\"white\",\"linecolor\":\"white\",\"showbackground\":true,\"ticks\":\"\",\"zerolinecolor\":\"white\",\"gridwidth\":2},\"yaxis\":{\"backgroundcolor\":\"#E5ECF6\",\"gridcolor\":\"white\",\"linecolor\":\"white\",\"showbackground\":true,\"ticks\":\"\",\"zerolinecolor\":\"white\",\"gridwidth\":2},\"zaxis\":{\"backgroundcolor\":\"#E5ECF6\",\"gridcolor\":\"white\",\"linecolor\":\"white\",\"showbackground\":true,\"ticks\":\"\",\"zerolinecolor\":\"white\",\"gridwidth\":2}},\"shapedefaults\":{\"line\":{\"color\":\"#2a3f5f\"}},\"annotationdefaults\":{\"arrowcolor\":\"#2a3f5f\",\"arrowhead\":0,\"arrowwidth\":1},\"geo\":{\"bgcolor\":\"white\",\"landcolor\":\"#E5ECF6\",\"subunitcolor\":\"white\",\"showland\":true,\"showlakes\":true,\"lakecolor\":\"white\"},\"title\":{\"x\":0.05},\"mapbox\":{\"style\":\"light\"}}}},                        {\"responsive\": true}                    ).then(function(){\n",
       "                            \n",
       "var gd = document.getElementById('617a946b-ffeb-4b1c-b182-0d8e56604c79');\n",
       "var x = new MutationObserver(function (mutations, observer) {{\n",
       "        var display = window.getComputedStyle(gd).display;\n",
       "        if (!display || display === 'none') {{\n",
       "            console.log([gd, 'removed!']);\n",
       "            Plotly.purge(gd);\n",
       "            observer.disconnect();\n",
       "        }}\n",
       "}});\n",
       "\n",
       "// Listen for the removal of the full notebook cells\n",
       "var notebookContainer = gd.closest('#notebook-container');\n",
       "if (notebookContainer) {{\n",
       "    x.observe(notebookContainer, {childList: true});\n",
       "}}\n",
       "\n",
       "// Listen for the clearing of the current output cell\n",
       "var outputEl = gd.closest('.output');\n",
       "if (outputEl) {{\n",
       "    x.observe(outputEl, {childList: true});\n",
       "}}\n",
       "\n",
       "                        })                };                            </script>        </div>\n",
       "</body>\n",
       "</html>"
      ]
     },
     "metadata": {},
     "output_type": "display_data"
    }
   ],
   "source": [
    "optuna.visualization.plot_param_importances(study)"
   ]
  },
  {
   "attachments": {
    "%D0%A1%D0%BD%D0%B8%D0%BC%D0%BE%D0%BA2.PNG": {
     "image/png": "[encoded data removed]"
    }
   },
   "cell_type": "markdown",
   "metadata": {},
   "source": [
    "![%D0%A1%D0%BD%D0%B8%D0%BC%D0%BE%D0%BA2.PNG](attachment:%D0%A1%D0%BD%D0%B8%D0%BC%D0%BE%D0%BA2.PNG)"
   ]
  },
  {
   "cell_type": "markdown",
   "metadata": {},
   "source": [
    "## Maintaining the best model"
   ]
  },
  {
   "cell_type": "code",
   "execution_count": 108,
   "metadata": {
    "id": "c4Sm6X6bPizQ"
   },
   "outputs": [],
   "source": [
    "cat_regr_best_model = catboost.CatBoostRegressor(**study.best_trial.params)"
   ]
  },
  {
   "cell_type": "code",
   "execution_count": 109,
   "metadata": {
    "colab": {
     "base_uri": "https://localhost:8080/"
    },
    "id": "BF8yDVBTP8Vy",
    "outputId": "48a6744d-ef62-49e9-f83d-225ec33ba6b5"
   },
   "outputs": [
    {
     "name": "stdout",
     "output_type": "stream",
     "text": [
      "0:\tlearn: 0.3930855\ttest: 0.3853652\tbest: 0.3853652 (0)\ttotal: 3.79ms\tremaining: 5.68s\n",
      "100:\tlearn: 0.3464000\ttest: 0.3603761\tbest: 0.3603761 (100)\ttotal: 378ms\tremaining: 5.23s\n",
      "200:\tlearn: 0.3138016\ttest: 0.3495128\tbest: 0.3493683 (199)\ttotal: 762ms\tremaining: 4.92s\n",
      "300:\tlearn: 0.2910380\ttest: 0.3482603\tbest: 0.3482338 (283)\ttotal: 1.14s\tremaining: 4.54s\n",
      "400:\tlearn: 0.2720835\ttest: 0.3492223\tbest: 0.3479465 (305)\ttotal: 1.5s\tremaining: 4.11s\n",
      "500:\tlearn: 0.2584655\ttest: 0.3498307\tbest: 0.3479465 (305)\ttotal: 1.87s\tremaining: 3.74s\n",
      "600:\tlearn: 0.2470586\ttest: 0.3524643\tbest: 0.3479465 (305)\ttotal: 2.24s\tremaining: 3.36s\n",
      "700:\tlearn: 0.2367996\ttest: 0.3545332\tbest: 0.3479465 (305)\ttotal: 2.62s\tremaining: 2.98s\n",
      "800:\tlearn: 0.2281932\ttest: 0.3565478\tbest: 0.3479465 (305)\ttotal: 2.99s\tremaining: 2.61s\n",
      "900:\tlearn: 0.2206622\ttest: 0.3588137\tbest: 0.3479465 (305)\ttotal: 3.38s\tremaining: 2.25s\n",
      "1000:\tlearn: 0.2140951\ttest: 0.3605145\tbest: 0.3479465 (305)\ttotal: 3.74s\tremaining: 1.86s\n",
      "1100:\tlearn: 0.2081911\ttest: 0.3620869\tbest: 0.3479465 (305)\ttotal: 4.13s\tremaining: 1.5s\n",
      "1200:\tlearn: 0.2030821\ttest: 0.3637553\tbest: 0.3479465 (305)\ttotal: 4.49s\tremaining: 1.12s\n",
      "1300:\tlearn: 0.1983502\ttest: 0.3662147\tbest: 0.3479465 (305)\ttotal: 4.85s\tremaining: 742ms\n",
      "1400:\tlearn: 0.1943269\ttest: 0.3679641\tbest: 0.3479465 (305)\ttotal: 5.23s\tremaining: 369ms\n",
      "1499:\tlearn: 0.1908637\ttest: 0.3694125\tbest: 0.3479465 (305)\ttotal: 5.59s\tremaining: 0us\n",
      "\n",
      "bestTest = 0.3479464921\n",
      "bestIteration = 305\n",
      "\n",
      "Shrink model to first 306 iterations.\n"
     ]
    },
    {
     "data": {
      "text/plain": [
       "<catboost.core.CatBoostRegressor at 0x7f4c572c38b0>"
      ]
     },
     "execution_count": 109,
     "metadata": {},
     "output_type": "execute_result"
    }
   ],
   "source": [
    "cat_regr_best_model.fit(\n",
    "    train_dataset,\n",
    "    eval_set=test_dataset,\n",
    "    verbose=100\n",
    ")"
   ]
  },
  {
   "cell_type": "code",
   "execution_count": 110,
   "metadata": {
    "colab": {
     "base_uri": "https://localhost:8080/"
    },
    "id": "I9ADCFryQdzv",
    "outputId": "030ca1b9-0e6a-4c23-fec3-d52a1166eaa8"
   },
   "outputs": [
    {
     "data": {
      "text/plain": [
       "{'nan_mode': 'Min',\n",
       " 'eval_metric': 'RMSE',\n",
       " 'iterations': 1500,\n",
       " 'sampling_frequency': 'PerTree',\n",
       " 'leaf_estimation_method': 'Newton',\n",
       " 'grow_policy': 'SymmetricTree',\n",
       " 'penalties_coefficient': 0.800000011920929,\n",
       " 'boosting_type': 'Plain',\n",
       " 'model_shrink_mode': 'Constant',\n",
       " 'feature_border_type': 'GreedyLogSum',\n",
       " 'bayesian_matrix_reg': 0.10000000149011612,\n",
       " 'force_unit_auto_pair_weights': False,\n",
       " 'l2_leaf_reg': 3,\n",
       " 'random_strength': 1,\n",
       " 'rsm': 1,\n",
       " 'boost_from_average': True,\n",
       " 'model_size_reg': 0.20000000298023224,\n",
       " 'pool_metainfo_options': {'tags': {}},\n",
       " 'subsample': 0.800000011920929,\n",
       " 'use_best_model': True,\n",
       " 'random_seed': 0,\n",
       " 'depth': 6,\n",
       " 'posterior_sampling': False,\n",
       " 'border_count': 254,\n",
       " 'classes_count': 0,\n",
       " 'auto_class_weights': 'None',\n",
       " 'sparse_features_conflict_fraction': 0,\n",
       " 'leaf_estimation_backtracking': 'AnyImprovement',\n",
       " 'best_model_min_trees': 1,\n",
       " 'model_shrink_rate': 0,\n",
       " 'min_data_in_leaf': 137,\n",
       " 'loss_function': 'RMSE',\n",
       " 'learning_rate': 0.054999999701976776,\n",
       " 'score_function': 'Cosine',\n",
       " 'task_type': 'CPU',\n",
       " 'leaf_estimation_iterations': 1,\n",
       " 'bootstrap_type': 'MVS',\n",
       " 'max_leaves': 64}"
      ]
     },
     "execution_count": 110,
     "metadata": {},
     "output_type": "execute_result"
    }
   ],
   "source": [
    "cat_regr_best_model.get_all_params()"
   ]
  },
  {
   "cell_type": "code",
   "execution_count": 111,
   "metadata": {
    "colab": {
     "base_uri": "https://localhost:8080/"
    },
    "id": "UXwA4qWlQJwi",
    "outputId": "7643ff3f-e93e-4643-bf9a-cfb4ed47d776"
   },
   "outputs": [
    {
     "name": "stdout",
     "output_type": "stream",
     "text": [
      "0.3479464940483275\n"
     ]
    }
   ],
   "source": [
    "rmse = mean_squared_error(list(y_test), cat_regr_best_model.predict(X_test_tfidf))**(1/2)\n",
    "print(rmse)"
   ]
  },
  {
   "cell_type": "code",
   "execution_count": 112,
   "metadata": {
    "id": "ru-FtC4cO2eG"
   },
   "outputs": [],
   "source": [
    "# for logging in DVC\n",
    "\n",
    "cat_regr_best_model_params = dict()\n",
    "cat_regr_best_model_params['params'] = cat_regr_best_model.get_all_params()\n",
    "cat_regr_best_model_params['RMSE'] = rmse\n",
    "\n",
    "with open('cat_regr_best_model_params.json', 'w') as file:\n",
    "    json.dump(cat_regr_best_model_params, file) "
   ]
  },
  {
   "cell_type": "code",
   "execution_count": 114,
   "metadata": {
    "id": "b8Rf1f-UTJEU"
   },
   "outputs": [],
   "source": [
    "with open('cat_regr_best_model.pkl', mode='wb') as file:\n",
    "        pickle.dump(cat_regr_best_model, file)"
   ]
  }
 ],
 "metadata": {
  "colab": {
   "provenance": []
  },
  "kernelspec": {
   "display_name": "Python 3 (ipykernel)",
   "language": "python",
   "name": "python3"
  },
  "language_info": {
   "codemirror_mode": {
    "name": "ipython",
    "version": 3
   },
   "file_extension": ".py",
   "mimetype": "text/x-python",
   "name": "python",
   "nbconvert_exporter": "python",
   "pygments_lexer": "ipython3",
   "version": "3.9.7"
  }
 },
 "nbformat": 4,
 "nbformat_minor": 1
}
